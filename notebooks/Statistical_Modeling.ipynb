{
 "cells": [
  {
   "cell_type": "code",
   "execution_count": 1,
   "id": "175a08c7",
   "metadata": {},
   "outputs": [],
   "source": [
    "import sys\n",
    "import os\n",
    "import matplotlib.pyplot as plt\n",
    "import numpy as np\n",
    "\n"
   ]
  },
  {
   "cell_type": "code",
   "execution_count": 26,
   "id": "d7fb2b2a",
   "metadata": {},
   "outputs": [],
   "source": [
    "# Add the root directory to sys.path\n",
    "sys.path.append(os.path.abspath('..'))\n",
    "\n",
    "from scripts.model_data_process import data_load , missing_values, delete_unwanted_column , delete_duplicated_rows , object_to_number , lable_encoding  , one_hot_encoding, target_variable_and_features , train_test_split_selection , feature_scaling , show_duplicated_rows\n",
    "#importing the model building functions\n",
    "from scripts.Statistical_Modeling import model_building, define_parameter_grid_gridsearchcv , train_each_model_by_gridsearchcv  , train_each_model, model_Test\n"
   ]
  },
  {
   "cell_type": "code",
   "execution_count": 4,
   "id": "0fd2932d",
   "metadata": {},
   "outputs": [
    {
     "name": "stderr",
     "output_type": "stream",
     "text": [
      "c:\\Users\\HP\\Desktop\\10 acd\\week-3\\scripts\\model_data_process.py:10: DtypeWarning: Columns (32) have mixed types. Specify dtype option on import or set low_memory=False.\n",
      "  return pd.read_csv(path)\n"
     ]
    },
    {
     "data": {
      "text/html": [
       "<div>\n",
       "<style scoped>\n",
       "    .dataframe tbody tr th:only-of-type {\n",
       "        vertical-align: middle;\n",
       "    }\n",
       "\n",
       "    .dataframe tbody tr th {\n",
       "        vertical-align: top;\n",
       "    }\n",
       "\n",
       "    .dataframe thead th {\n",
       "        text-align: right;\n",
       "    }\n",
       "</style>\n",
       "<table border=\"1\" class=\"dataframe\">\n",
       "  <thead>\n",
       "    <tr style=\"text-align: right;\">\n",
       "      <th></th>\n",
       "      <th>UnderwrittenCoverID</th>\n",
       "      <th>PolicyID</th>\n",
       "      <th>TransactionMonth</th>\n",
       "      <th>IsVATRegistered</th>\n",
       "      <th>Citizenship</th>\n",
       "      <th>LegalType</th>\n",
       "      <th>Title</th>\n",
       "      <th>Language</th>\n",
       "      <th>Bank</th>\n",
       "      <th>AccountType</th>\n",
       "      <th>...</th>\n",
       "      <th>ExcessSelected</th>\n",
       "      <th>CoverCategory</th>\n",
       "      <th>CoverType</th>\n",
       "      <th>CoverGroup</th>\n",
       "      <th>Section</th>\n",
       "      <th>Product</th>\n",
       "      <th>StatutoryClass</th>\n",
       "      <th>StatutoryRiskType</th>\n",
       "      <th>TotalPremium</th>\n",
       "      <th>TotalClaims</th>\n",
       "    </tr>\n",
       "  </thead>\n",
       "  <tbody>\n",
       "    <tr>\n",
       "      <th>0</th>\n",
       "      <td>145249</td>\n",
       "      <td>12827</td>\n",
       "      <td>2015-07-01 00:00:00</td>\n",
       "      <td>True</td>\n",
       "      <td></td>\n",
       "      <td>Close Corporation</td>\n",
       "      <td>Mr</td>\n",
       "      <td>English</td>\n",
       "      <td>First National Bank</td>\n",
       "      <td>Current account</td>\n",
       "      <td>...</td>\n",
       "      <td>Mobility - Windscreen</td>\n",
       "      <td>Windscreen</td>\n",
       "      <td>Windscreen</td>\n",
       "      <td>Comprehensive - Taxi</td>\n",
       "      <td>Motor Comprehensive</td>\n",
       "      <td>Mobility Metered Taxis: Monthly</td>\n",
       "      <td>Commercial</td>\n",
       "      <td>IFRS Constant</td>\n",
       "      <td>0.000000</td>\n",
       "      <td>0.0</td>\n",
       "    </tr>\n",
       "    <tr>\n",
       "      <th>1</th>\n",
       "      <td>145255</td>\n",
       "      <td>12827</td>\n",
       "      <td>2015-07-01 00:00:00</td>\n",
       "      <td>True</td>\n",
       "      <td></td>\n",
       "      <td>Close Corporation</td>\n",
       "      <td>Mr</td>\n",
       "      <td>English</td>\n",
       "      <td>First National Bank</td>\n",
       "      <td>Current account</td>\n",
       "      <td>...</td>\n",
       "      <td>Mobility - Metered Taxis - R2000</td>\n",
       "      <td>Own damage</td>\n",
       "      <td>Own Damage</td>\n",
       "      <td>Comprehensive - Taxi</td>\n",
       "      <td>Motor Comprehensive</td>\n",
       "      <td>Mobility Metered Taxis: Monthly</td>\n",
       "      <td>Commercial</td>\n",
       "      <td>IFRS Constant</td>\n",
       "      <td>0.000000</td>\n",
       "      <td>0.0</td>\n",
       "    </tr>\n",
       "    <tr>\n",
       "      <th>2</th>\n",
       "      <td>145247</td>\n",
       "      <td>12827</td>\n",
       "      <td>2015-01-01 00:00:00</td>\n",
       "      <td>True</td>\n",
       "      <td></td>\n",
       "      <td>Close Corporation</td>\n",
       "      <td>Mr</td>\n",
       "      <td>English</td>\n",
       "      <td>First National Bank</td>\n",
       "      <td>Current account</td>\n",
       "      <td>...</td>\n",
       "      <td>No excess</td>\n",
       "      <td>Third Party</td>\n",
       "      <td>Third Party</td>\n",
       "      <td>Comprehensive - Taxi</td>\n",
       "      <td>Motor Comprehensive</td>\n",
       "      <td>Mobility Metered Taxis: Monthly</td>\n",
       "      <td>Commercial</td>\n",
       "      <td>IFRS Constant</td>\n",
       "      <td>3.256435</td>\n",
       "      <td>0.0</td>\n",
       "    </tr>\n",
       "    <tr>\n",
       "      <th>3</th>\n",
       "      <td>145247</td>\n",
       "      <td>12827</td>\n",
       "      <td>2015-08-01 00:00:00</td>\n",
       "      <td>True</td>\n",
       "      <td></td>\n",
       "      <td>Close Corporation</td>\n",
       "      <td>Mr</td>\n",
       "      <td>English</td>\n",
       "      <td>First National Bank</td>\n",
       "      <td>Current account</td>\n",
       "      <td>...</td>\n",
       "      <td>No excess</td>\n",
       "      <td>Third Party</td>\n",
       "      <td>Third Party</td>\n",
       "      <td>Comprehensive - Taxi</td>\n",
       "      <td>Motor Comprehensive</td>\n",
       "      <td>Mobility Metered Taxis: Monthly</td>\n",
       "      <td>Commercial</td>\n",
       "      <td>IFRS Constant</td>\n",
       "      <td>0.000000</td>\n",
       "      <td>0.0</td>\n",
       "    </tr>\n",
       "    <tr>\n",
       "      <th>4</th>\n",
       "      <td>145245</td>\n",
       "      <td>12827</td>\n",
       "      <td>2015-03-01 00:00:00</td>\n",
       "      <td>True</td>\n",
       "      <td></td>\n",
       "      <td>Close Corporation</td>\n",
       "      <td>Mr</td>\n",
       "      <td>English</td>\n",
       "      <td>First National Bank</td>\n",
       "      <td>Current account</td>\n",
       "      <td>...</td>\n",
       "      <td>No excess</td>\n",
       "      <td>Passenger Liability</td>\n",
       "      <td>Passenger Liability</td>\n",
       "      <td>Comprehensive - Taxi</td>\n",
       "      <td>Motor Comprehensive</td>\n",
       "      <td>Mobility Metered Taxis: Monthly</td>\n",
       "      <td>Commercial</td>\n",
       "      <td>IFRS Constant</td>\n",
       "      <td>1.009474</td>\n",
       "      <td>0.0</td>\n",
       "    </tr>\n",
       "  </tbody>\n",
       "</table>\n",
       "<p>5 rows × 52 columns</p>\n",
       "</div>"
      ],
      "text/plain": [
       "   UnderwrittenCoverID  PolicyID     TransactionMonth  IsVATRegistered  \\\n",
       "0               145249     12827  2015-07-01 00:00:00             True   \n",
       "1               145255     12827  2015-07-01 00:00:00             True   \n",
       "2               145247     12827  2015-01-01 00:00:00             True   \n",
       "3               145247     12827  2015-08-01 00:00:00             True   \n",
       "4               145245     12827  2015-03-01 00:00:00             True   \n",
       "\n",
       "  Citizenship          LegalType Title Language                 Bank  \\\n",
       "0              Close Corporation    Mr  English  First National Bank   \n",
       "1              Close Corporation    Mr  English  First National Bank   \n",
       "2              Close Corporation    Mr  English  First National Bank   \n",
       "3              Close Corporation    Mr  English  First National Bank   \n",
       "4              Close Corporation    Mr  English  First National Bank   \n",
       "\n",
       "       AccountType  ...                    ExcessSelected  \\\n",
       "0  Current account  ...             Mobility - Windscreen   \n",
       "1  Current account  ...  Mobility - Metered Taxis - R2000   \n",
       "2  Current account  ...                         No excess   \n",
       "3  Current account  ...                         No excess   \n",
       "4  Current account  ...                         No excess   \n",
       "\n",
       "         CoverCategory            CoverType            CoverGroup  \\\n",
       "0           Windscreen           Windscreen  Comprehensive - Taxi   \n",
       "1           Own damage           Own Damage  Comprehensive - Taxi   \n",
       "2          Third Party          Third Party  Comprehensive - Taxi   \n",
       "3          Third Party          Third Party  Comprehensive - Taxi   \n",
       "4  Passenger Liability  Passenger Liability  Comprehensive - Taxi   \n",
       "\n",
       "               Section                          Product StatutoryClass  \\\n",
       "0  Motor Comprehensive  Mobility Metered Taxis: Monthly     Commercial   \n",
       "1  Motor Comprehensive  Mobility Metered Taxis: Monthly     Commercial   \n",
       "2  Motor Comprehensive  Mobility Metered Taxis: Monthly     Commercial   \n",
       "3  Motor Comprehensive  Mobility Metered Taxis: Monthly     Commercial   \n",
       "4  Motor Comprehensive  Mobility Metered Taxis: Monthly     Commercial   \n",
       "\n",
       "  StatutoryRiskType  TotalPremium TotalClaims  \n",
       "0     IFRS Constant      0.000000         0.0  \n",
       "1     IFRS Constant      0.000000         0.0  \n",
       "2     IFRS Constant      3.256435         0.0  \n",
       "3     IFRS Constant      0.000000         0.0  \n",
       "4     IFRS Constant      1.009474         0.0  \n",
       "\n",
       "[5 rows x 52 columns]"
      ]
     },
     "execution_count": 4,
     "metadata": {},
     "output_type": "execute_result"
    }
   ],
   "source": [
    "path = '../data/data.csv'\n",
    "\n",
    "data = data_load(path)\n",
    "data.head()"
   ]
  },
  {
   "cell_type": "code",
   "execution_count": 7,
   "id": "5833c6c3",
   "metadata": {},
   "outputs": [
    {
     "data": {
      "text/plain": [
       "Index(['UnderwrittenCoverID', 'PolicyID', 'TransactionMonth',\n",
       "       'IsVATRegistered', 'Citizenship', 'LegalType', 'Title', 'Language',\n",
       "       'Bank', 'AccountType', 'MaritalStatus', 'Gender', 'Country', 'Province',\n",
       "       'PostalCode', 'MainCrestaZone', 'SubCrestaZone', 'ItemType', 'mmcode',\n",
       "       'VehicleType', 'RegistrationYear', 'make', 'Model', 'Cylinders',\n",
       "       'cubiccapacity', 'kilowatts', 'bodytype', 'NumberOfDoors',\n",
       "       'VehicleIntroDate', 'CustomValueEstimate', 'AlarmImmobiliser',\n",
       "       'TrackingDevice', 'CapitalOutstanding', 'NewVehicle', 'WrittenOff',\n",
       "       'Rebuilt', 'Converted', 'CrossBorder', 'NumberOfVehiclesInFleet',\n",
       "       'SumInsured', 'TermFrequency', 'CalculatedPremiumPerTerm',\n",
       "       'ExcessSelected', 'CoverCategory', 'CoverType', 'CoverGroup', 'Section',\n",
       "       'Product', 'StatutoryClass', 'StatutoryRiskType', 'TotalPremium',\n",
       "       'TotalClaims'],\n",
       "      dtype='object')"
      ]
     },
     "execution_count": 7,
     "metadata": {},
     "output_type": "execute_result"
    }
   ],
   "source": [
    "data.columns\n"
   ]
  },
  {
   "cell_type": "code",
   "execution_count": 8,
   "id": "ff1ed98f",
   "metadata": {},
   "outputs": [
    {
     "data": {
      "text/plain": [
       "52"
      ]
     },
     "execution_count": 8,
     "metadata": {},
     "output_type": "execute_result"
    }
   ],
   "source": [
    "len(data.columns)"
   ]
  },
  {
   "cell_type": "code",
   "execution_count": 9,
   "id": "a52a147e",
   "metadata": {},
   "outputs": [
    {
     "data": {
      "text/plain": [
       "Index(['TransactionMonth', 'Citizenship', 'Bank', 'AccountType',\n",
       "       'MaritalStatus', 'Gender', 'Country', 'Province', 'PostalCode',\n",
       "       'MainCrestaZone', 'SubCrestaZone', 'ItemType', 'mmcode', 'VehicleType',\n",
       "       'RegistrationYear', 'make', 'Model', 'Cylinders', 'cubiccapacity',\n",
       "       'kilowatts', 'bodytype', 'CustomValueEstimate', 'AlarmImmobiliser',\n",
       "       'TrackingDevice', 'CapitalOutstanding', 'NewVehicle', 'WrittenOff',\n",
       "       'Rebuilt', 'Converted', 'CrossBorder', 'NumberOfVehiclesInFleet',\n",
       "       'SumInsured', 'TermFrequency', 'CalculatedPremiumPerTerm',\n",
       "       'ExcessSelected', 'CoverCategory', 'CoverType', 'CoverGroup', 'Section',\n",
       "       'Product', 'StatutoryClass', 'StatutoryRiskType', 'TotalPremium',\n",
       "       'TotalClaims'],\n",
       "      dtype='object')"
      ]
     },
     "execution_count": 9,
     "metadata": {},
     "output_type": "execute_result"
    }
   ],
   "source": [
    "columns_to_drop = ['UnderwrittenCoverID', 'PolicyID', 'NumberOfDoors', \n",
    "                   'VehicleIntroDate', 'IsVATRegistered', 'Title', \n",
    "                   'LegalType', 'Language']\n",
    "data1 =delete_unwanted_column(data , columns_to_drop)\n",
    "data1.columns"
   ]
  },
  {
   "cell_type": "code",
   "execution_count": 10,
   "id": "48b0814d",
   "metadata": {},
   "outputs": [
    {
     "data": {
      "text/plain": [
       "44"
      ]
     },
     "execution_count": 10,
     "metadata": {},
     "output_type": "execute_result"
    }
   ],
   "source": [
    "len(data1.columns)"
   ]
  },
  {
   "cell_type": "code",
   "execution_count": 11,
   "id": "21dc5a28",
   "metadata": {},
   "outputs": [
    {
     "data": {
      "text/plain": [
       "TransactionMonth                 0\n",
       "Citizenship                      0\n",
       "Bank                             0\n",
       "AccountType                      0\n",
       "MaritalStatus                    0\n",
       "Gender                           0\n",
       "Country                          0\n",
       "Province                         0\n",
       "PostalCode                       0\n",
       "MainCrestaZone                   0\n",
       "SubCrestaZone                    0\n",
       "ItemType                         0\n",
       "mmcode                           0\n",
       "VehicleType                      0\n",
       "RegistrationYear                 0\n",
       "make                             0\n",
       "Model                            0\n",
       "Cylinders                        0\n",
       "cubiccapacity                    0\n",
       "kilowatts                        0\n",
       "bodytype                         0\n",
       "CustomValueEstimate              0\n",
       "AlarmImmobiliser                 0\n",
       "TrackingDevice                   0\n",
       "CapitalOutstanding               0\n",
       "NewVehicle                       0\n",
       "WrittenOff                       0\n",
       "Rebuilt                          0\n",
       "Converted                        0\n",
       "CrossBorder                      0\n",
       "NumberOfVehiclesInFleet     702143\n",
       "SumInsured                       0\n",
       "TermFrequency                    0\n",
       "CalculatedPremiumPerTerm         0\n",
       "ExcessSelected                   0\n",
       "CoverCategory                    0\n",
       "CoverType                        0\n",
       "CoverGroup                       0\n",
       "Section                          0\n",
       "Product                          0\n",
       "StatutoryClass                   0\n",
       "StatutoryRiskType                0\n",
       "TotalPremium                     0\n",
       "TotalClaims                      0\n",
       "dtype: int64"
      ]
     },
     "execution_count": 11,
     "metadata": {},
     "output_type": "execute_result"
    }
   ],
   "source": [
    "missing_values(data1)"
   ]
  },
  {
   "cell_type": "code",
   "execution_count": 12,
   "id": "ee300b42",
   "metadata": {},
   "outputs": [
    {
     "data": {
      "text/plain": [
       "(702143, 44)"
      ]
     },
     "execution_count": 12,
     "metadata": {},
     "output_type": "execute_result"
    }
   ],
   "source": [
    "data1.shape"
   ]
  },
  {
   "cell_type": "code",
   "execution_count": 13,
   "id": "50e5e44d",
   "metadata": {},
   "outputs": [
    {
     "name": "stdout",
     "output_type": "stream",
     "text": [
      "Number of duplicated rows: 188065\n",
      "           TransactionMonth Citizenship           Bank      AccountType  \\\n",
      "1505    2015-04-01 00:00:00               Capitec Bank  Savings account   \n",
      "1506    2015-06-01 00:00:00               Capitec Bank  Savings account   \n",
      "1508    2015-08-01 00:00:00               Capitec Bank  Savings account   \n",
      "1512    2015-05-01 00:00:00               Capitec Bank  Savings account   \n",
      "1514    2015-07-01 00:00:00               Capitec Bank  Savings account   \n",
      "...                     ...         ...            ...              ...   \n",
      "702051  2014-11-01 00:00:00          ZA  Standard Bank  Current account   \n",
      "702052  2015-01-01 00:00:00          ZA  Standard Bank  Current account   \n",
      "702053  2015-04-01 00:00:00          ZA  Standard Bank  Current account   \n",
      "702054  2015-06-01 00:00:00          ZA  Standard Bank  Current account   \n",
      "702055  2015-08-01 00:00:00          ZA  Standard Bank  Current account   \n",
      "\n",
      "        MaritalStatus         Gender       Country      Province  PostalCode  \\\n",
      "1505    Not specified  Not specified  South Africa    North West         309   \n",
      "1506    Not specified  Not specified  South Africa    North West         309   \n",
      "1508    Not specified  Not specified  South Africa    North West         309   \n",
      "1512    Not specified  Not specified  South Africa    North West         309   \n",
      "1514    Not specified  Not specified  South Africa    North West         309   \n",
      "...               ...            ...           ...           ...         ...   \n",
      "702051  Not specified         Female  South Africa  Western Cape        7405   \n",
      "702052  Not specified         Female  South Africa  Western Cape        7405   \n",
      "702053  Not specified         Female  South Africa  Western Cape        7405   \n",
      "702054  Not specified         Female  South Africa  Western Cape        7405   \n",
      "702055  Not specified         Female  South Africa  Western Cape        7405   \n",
      "\n",
      "                          MainCrestaZone  ... ExcessSelected  \\\n",
      "1505     Transvaal (all except Pretoria)  ...      No excess   \n",
      "1506     Transvaal (all except Pretoria)  ...      No excess   \n",
      "1508     Transvaal (all except Pretoria)  ...      No excess   \n",
      "1512     Transvaal (all except Pretoria)  ...      No excess   \n",
      "1514     Transvaal (all except Pretoria)  ...      No excess   \n",
      "...                                  ...  ...            ...   \n",
      "702051  Karoo 1 (Northeast of Cape Town)  ...      No excess   \n",
      "702052  Karoo 1 (Northeast of Cape Town)  ...      No excess   \n",
      "702053  Karoo 1 (Northeast of Cape Town)  ...      No excess   \n",
      "702054  Karoo 1 (Northeast of Cape Town)  ...      No excess   \n",
      "702055  Karoo 1 (Northeast of Cape Town)  ...      No excess   \n",
      "\n",
      "                                  CoverCategory  \\\n",
      "1505    Cleaning and Removal of Accident Debris   \n",
      "1506    Cleaning and Removal of Accident Debris   \n",
      "1508    Cleaning and Removal of Accident Debris   \n",
      "1512    Cleaning and Removal of Accident Debris   \n",
      "1514    Cleaning and Removal of Accident Debris   \n",
      "...                                         ...   \n",
      "702051  Cleaning and Removal of Accident Debris   \n",
      "702052  Cleaning and Removal of Accident Debris   \n",
      "702053  Cleaning and Removal of Accident Debris   \n",
      "702054  Cleaning and Removal of Accident Debris   \n",
      "702055  Cleaning and Removal of Accident Debris   \n",
      "\n",
      "                                      CoverType            CoverGroup  \\\n",
      "1505    Cleaning and Removal of Accident Debris  Comprehensive - Taxi   \n",
      "1506    Cleaning and Removal of Accident Debris  Comprehensive - Taxi   \n",
      "1508    Cleaning and Removal of Accident Debris  Comprehensive - Taxi   \n",
      "1512    Cleaning and Removal of Accident Debris  Comprehensive - Taxi   \n",
      "1514    Cleaning and Removal of Accident Debris  Comprehensive - Taxi   \n",
      "...                                         ...                   ...   \n",
      "702051  Cleaning and Removal of Accident Debris  Comprehensive - Taxi   \n",
      "702052  Cleaning and Removal of Accident Debris  Comprehensive - Taxi   \n",
      "702053  Cleaning and Removal of Accident Debris  Comprehensive - Taxi   \n",
      "702054  Cleaning and Removal of Accident Debris  Comprehensive - Taxi   \n",
      "702055  Cleaning and Removal of Accident Debris  Comprehensive - Taxi   \n",
      "\n",
      "                    Section                             Product  \\\n",
      "1505    Motor Comprehensive  Mobility Commercial Cover: Monthly   \n",
      "1506    Motor Comprehensive  Mobility Commercial Cover: Monthly   \n",
      "1508    Motor Comprehensive  Mobility Commercial Cover: Monthly   \n",
      "1512    Motor Comprehensive  Mobility Commercial Cover: Monthly   \n",
      "1514    Motor Comprehensive  Mobility Commercial Cover: Monthly   \n",
      "...                     ...                                 ...   \n",
      "702051  Motor Comprehensive     Mobility Metered Taxis: Monthly   \n",
      "702052  Motor Comprehensive     Mobility Metered Taxis: Monthly   \n",
      "702053  Motor Comprehensive     Mobility Metered Taxis: Monthly   \n",
      "702054  Motor Comprehensive     Mobility Metered Taxis: Monthly   \n",
      "702055  Motor Comprehensive     Mobility Metered Taxis: Monthly   \n",
      "\n",
      "       StatutoryClass  StatutoryRiskType  TotalPremium  TotalClaims  \n",
      "1505       Commercial      IFRS Constant      1.906228          0.0  \n",
      "1506       Commercial      IFRS Constant      1.906228          0.0  \n",
      "1508       Commercial      IFRS Constant      1.906228          0.0  \n",
      "1512       Commercial      IFRS Constant      1.906228          0.0  \n",
      "1514       Commercial      IFRS Constant      1.906228          0.0  \n",
      "...               ...                ...           ...          ...  \n",
      "702051     Commercial      IFRS Constant      3.642193          0.0  \n",
      "702052     Commercial      IFRS Constant      3.642193          0.0  \n",
      "702053     Commercial      IFRS Constant      3.642193          0.0  \n",
      "702054     Commercial      IFRS Constant      0.000000          0.0  \n",
      "702055     Commercial      IFRS Constant      0.000000          0.0  \n",
      "\n",
      "[188065 rows x 44 columns]\n"
     ]
    }
   ],
   "source": [
    "dupes = show_duplicated_rows(data1)\n",
    "print(dupes)"
   ]
  },
  {
   "cell_type": "code",
   "execution_count": 17,
   "id": "8a59f7aa",
   "metadata": {},
   "outputs": [
    {
     "name": "stdout",
     "output_type": "stream",
     "text": [
      "Duplicates after cleaning: 0\n"
     ]
    }
   ],
   "source": [
    "data1 = delete_duplicated_rows(data1)\n",
    "print(f\"Duplicates after cleaning: {data_clean.duplicated().sum()}\")  # should be 0\n"
   ]
  },
  {
   "cell_type": "code",
   "execution_count": 18,
   "id": "bee4f525",
   "metadata": {},
   "outputs": [
    {
     "data": {
      "text/plain": [
       "(588650, 44)"
      ]
     },
     "execution_count": 18,
     "metadata": {},
     "output_type": "execute_result"
    }
   ],
   "source": [
    "data1.shape"
   ]
  },
  {
   "cell_type": "code",
   "execution_count": 19,
   "id": "359ee553",
   "metadata": {},
   "outputs": [
    {
     "data": {
      "text/plain": [
       "TransactionMonth             object\n",
       "Citizenship                  object\n",
       "Bank                         object\n",
       "AccountType                  object\n",
       "MaritalStatus                object\n",
       "Gender                       object\n",
       "Country                      object\n",
       "Province                     object\n",
       "PostalCode                    int64\n",
       "MainCrestaZone               object\n",
       "SubCrestaZone                object\n",
       "ItemType                     object\n",
       "mmcode                      float64\n",
       "VehicleType                  object\n",
       "RegistrationYear              int64\n",
       "make                         object\n",
       "Model                        object\n",
       "Cylinders                   float64\n",
       "cubiccapacity               float64\n",
       "kilowatts                   float64\n",
       "bodytype                     object\n",
       "CustomValueEstimate         float64\n",
       "AlarmImmobiliser             object\n",
       "TrackingDevice               object\n",
       "CapitalOutstanding           object\n",
       "NewVehicle                   object\n",
       "WrittenOff                   object\n",
       "Rebuilt                      object\n",
       "Converted                    object\n",
       "CrossBorder                  object\n",
       "NumberOfVehiclesInFleet     float64\n",
       "SumInsured                  float64\n",
       "TermFrequency                object\n",
       "CalculatedPremiumPerTerm    float64\n",
       "ExcessSelected               object\n",
       "CoverCategory                object\n",
       "CoverType                    object\n",
       "CoverGroup                   object\n",
       "Section                      object\n",
       "Product                      object\n",
       "StatutoryClass               object\n",
       "StatutoryRiskType            object\n",
       "TotalPremium                float64\n",
       "TotalClaims                 float64\n",
       "dtype: object"
      ]
     },
     "execution_count": 19,
     "metadata": {},
     "output_type": "execute_result"
    }
   ],
   "source": [
    "data1.dtypes"
   ]
  },
  {
   "cell_type": "code",
   "execution_count": 20,
   "id": "55f3bab8",
   "metadata": {},
   "outputs": [
    {
     "data": {
      "text/plain": [
       "TransactionMonth             object\n",
       "Citizenship                  object\n",
       "Bank                         object\n",
       "AccountType                  object\n",
       "MaritalStatus                object\n",
       "Gender                       object\n",
       "Country                      object\n",
       "Province                     object\n",
       "PostalCode                    int64\n",
       "MainCrestaZone               object\n",
       "SubCrestaZone                object\n",
       "ItemType                     object\n",
       "mmcode                      float64\n",
       "VehicleType                  object\n",
       "RegistrationYear              int64\n",
       "make                         object\n",
       "Model                        object\n",
       "Cylinders                   float64\n",
       "cubiccapacity               float64\n",
       "kilowatts                   float64\n",
       "bodytype                     object\n",
       "CustomValueEstimate         float64\n",
       "AlarmImmobiliser             object\n",
       "TrackingDevice               object\n",
       "CapitalOutstanding          float64\n",
       "NewVehicle                   object\n",
       "WrittenOff                   object\n",
       "Rebuilt                      object\n",
       "Converted                    object\n",
       "CrossBorder                  object\n",
       "NumberOfVehiclesInFleet     float64\n",
       "SumInsured                  float64\n",
       "TermFrequency                object\n",
       "CalculatedPremiumPerTerm    float64\n",
       "ExcessSelected              float64\n",
       "CoverCategory                object\n",
       "CoverType                    object\n",
       "CoverGroup                   object\n",
       "Section                      object\n",
       "Product                      object\n",
       "StatutoryClass               object\n",
       "StatutoryRiskType            object\n",
       "TotalPremium                float64\n",
       "TotalClaims                 float64\n",
       "dtype: object"
      ]
     },
     "execution_count": 20,
     "metadata": {},
     "output_type": "execute_result"
    }
   ],
   "source": [
    "numeric_cols = ['CapitalOutstanding', 'NumberOfVehiclesInFleet', 'ExcessSelected']\n",
    "data1 = object_to_number(data1,numeric_cols)\n",
    "data1.dtypes"
   ]
  },
  {
   "cell_type": "code",
   "execution_count": 21,
   "id": "01fa7343",
   "metadata": {},
   "outputs": [],
   "source": [
    "label_encoding_columns = [\n",
    "    'CoverCategory', 'CoverType', 'CoverGroup', 'Section', 'Product', \n",
    "    'StatutoryClass', 'StatutoryRiskType', 'ExcessSelected','TransactionMonth', 'Citizenship', 'Bank', 'AccountType', 'MaritalStatus', \n",
    "    'Gender', 'Country', 'Province', 'MainCrestaZone', 'SubCrestaZone', \n",
    "    'ItemType', 'VehicleType', 'make', 'Model', 'bodytype', \n",
    "    'AlarmImmobiliser', 'TrackingDevice', 'CapitalOutstanding', \n",
    "    'NewVehicle', 'WrittenOff', 'Rebuilt', 'Converted', 'CrossBorder', \n",
    "    'NumberOfVehiclesInFleet', 'TermFrequency'\n",
    "]\n",
    "data1 = lable_encoding(data1,label_encoding_columns)"
   ]
  },
  {
   "cell_type": "code",
   "execution_count": 22,
   "id": "101b2e1f",
   "metadata": {},
   "outputs": [
    {
     "data": {
      "text/html": [
       "<div>\n",
       "<style scoped>\n",
       "    .dataframe tbody tr th:only-of-type {\n",
       "        vertical-align: middle;\n",
       "    }\n",
       "\n",
       "    .dataframe tbody tr th {\n",
       "        vertical-align: top;\n",
       "    }\n",
       "\n",
       "    .dataframe thead th {\n",
       "        text-align: right;\n",
       "    }\n",
       "</style>\n",
       "<table border=\"1\" class=\"dataframe\">\n",
       "  <thead>\n",
       "    <tr style=\"text-align: right;\">\n",
       "      <th></th>\n",
       "      <th>TransactionMonth</th>\n",
       "      <th>Citizenship</th>\n",
       "      <th>Bank</th>\n",
       "      <th>AccountType</th>\n",
       "      <th>MaritalStatus</th>\n",
       "      <th>Gender</th>\n",
       "      <th>Country</th>\n",
       "      <th>Province</th>\n",
       "      <th>PostalCode</th>\n",
       "      <th>MainCrestaZone</th>\n",
       "      <th>...</th>\n",
       "      <th>ExcessSelected</th>\n",
       "      <th>CoverCategory</th>\n",
       "      <th>CoverType</th>\n",
       "      <th>CoverGroup</th>\n",
       "      <th>Section</th>\n",
       "      <th>Product</th>\n",
       "      <th>StatutoryClass</th>\n",
       "      <th>StatutoryRiskType</th>\n",
       "      <th>TotalPremium</th>\n",
       "      <th>TotalClaims</th>\n",
       "    </tr>\n",
       "  </thead>\n",
       "  <tbody>\n",
       "    <tr>\n",
       "      <th>0</th>\n",
       "      <td>21</td>\n",
       "      <td>0</td>\n",
       "      <td>2</td>\n",
       "      <td>0</td>\n",
       "      <td>1</td>\n",
       "      <td>2</td>\n",
       "      <td>0</td>\n",
       "      <td>2</td>\n",
       "      <td>1459</td>\n",
       "      <td>12</td>\n",
       "      <td>...</td>\n",
       "      <td>0</td>\n",
       "      <td>25</td>\n",
       "      <td>20</td>\n",
       "      <td>5</td>\n",
       "      <td>1</td>\n",
       "      <td>2</td>\n",
       "      <td>0</td>\n",
       "      <td>0</td>\n",
       "      <td>0.000000</td>\n",
       "      <td>0.0</td>\n",
       "    </tr>\n",
       "    <tr>\n",
       "      <th>1</th>\n",
       "      <td>21</td>\n",
       "      <td>0</td>\n",
       "      <td>2</td>\n",
       "      <td>0</td>\n",
       "      <td>1</td>\n",
       "      <td>2</td>\n",
       "      <td>0</td>\n",
       "      <td>2</td>\n",
       "      <td>1459</td>\n",
       "      <td>12</td>\n",
       "      <td>...</td>\n",
       "      <td>0</td>\n",
       "      <td>16</td>\n",
       "      <td>13</td>\n",
       "      <td>5</td>\n",
       "      <td>1</td>\n",
       "      <td>2</td>\n",
       "      <td>0</td>\n",
       "      <td>0</td>\n",
       "      <td>0.000000</td>\n",
       "      <td>0.0</td>\n",
       "    </tr>\n",
       "    <tr>\n",
       "      <th>2</th>\n",
       "      <td>15</td>\n",
       "      <td>0</td>\n",
       "      <td>2</td>\n",
       "      <td>0</td>\n",
       "      <td>1</td>\n",
       "      <td>2</td>\n",
       "      <td>0</td>\n",
       "      <td>2</td>\n",
       "      <td>1459</td>\n",
       "      <td>12</td>\n",
       "      <td>...</td>\n",
       "      <td>0</td>\n",
       "      <td>21</td>\n",
       "      <td>18</td>\n",
       "      <td>5</td>\n",
       "      <td>1</td>\n",
       "      <td>2</td>\n",
       "      <td>0</td>\n",
       "      <td>0</td>\n",
       "      <td>3.256435</td>\n",
       "      <td>0.0</td>\n",
       "    </tr>\n",
       "    <tr>\n",
       "      <th>3</th>\n",
       "      <td>22</td>\n",
       "      <td>0</td>\n",
       "      <td>2</td>\n",
       "      <td>0</td>\n",
       "      <td>1</td>\n",
       "      <td>2</td>\n",
       "      <td>0</td>\n",
       "      <td>2</td>\n",
       "      <td>1459</td>\n",
       "      <td>12</td>\n",
       "      <td>...</td>\n",
       "      <td>0</td>\n",
       "      <td>21</td>\n",
       "      <td>18</td>\n",
       "      <td>5</td>\n",
       "      <td>1</td>\n",
       "      <td>2</td>\n",
       "      <td>0</td>\n",
       "      <td>0</td>\n",
       "      <td>0.000000</td>\n",
       "      <td>0.0</td>\n",
       "    </tr>\n",
       "    <tr>\n",
       "      <th>4</th>\n",
       "      <td>17</td>\n",
       "      <td>0</td>\n",
       "      <td>2</td>\n",
       "      <td>0</td>\n",
       "      <td>1</td>\n",
       "      <td>2</td>\n",
       "      <td>0</td>\n",
       "      <td>2</td>\n",
       "      <td>1459</td>\n",
       "      <td>12</td>\n",
       "      <td>...</td>\n",
       "      <td>0</td>\n",
       "      <td>17</td>\n",
       "      <td>14</td>\n",
       "      <td>5</td>\n",
       "      <td>1</td>\n",
       "      <td>2</td>\n",
       "      <td>0</td>\n",
       "      <td>0</td>\n",
       "      <td>1.009474</td>\n",
       "      <td>0.0</td>\n",
       "    </tr>\n",
       "  </tbody>\n",
       "</table>\n",
       "<p>5 rows × 44 columns</p>\n",
       "</div>"
      ],
      "text/plain": [
       "   TransactionMonth  Citizenship  Bank  AccountType  MaritalStatus  Gender  \\\n",
       "0                21            0     2            0              1       2   \n",
       "1                21            0     2            0              1       2   \n",
       "2                15            0     2            0              1       2   \n",
       "3                22            0     2            0              1       2   \n",
       "4                17            0     2            0              1       2   \n",
       "\n",
       "   Country  Province  PostalCode  MainCrestaZone  ...  ExcessSelected  \\\n",
       "0        0         2        1459              12  ...               0   \n",
       "1        0         2        1459              12  ...               0   \n",
       "2        0         2        1459              12  ...               0   \n",
       "3        0         2        1459              12  ...               0   \n",
       "4        0         2        1459              12  ...               0   \n",
       "\n",
       "   CoverCategory  CoverType  CoverGroup  Section  Product  StatutoryClass  \\\n",
       "0             25         20           5        1        2               0   \n",
       "1             16         13           5        1        2               0   \n",
       "2             21         18           5        1        2               0   \n",
       "3             21         18           5        1        2               0   \n",
       "4             17         14           5        1        2               0   \n",
       "\n",
       "   StatutoryRiskType  TotalPremium  TotalClaims  \n",
       "0                  0      0.000000          0.0  \n",
       "1                  0      0.000000          0.0  \n",
       "2                  0      3.256435          0.0  \n",
       "3                  0      0.000000          0.0  \n",
       "4                  0      1.009474          0.0  \n",
       "\n",
       "[5 rows x 44 columns]"
      ]
     },
     "execution_count": 22,
     "metadata": {},
     "output_type": "execute_result"
    }
   ],
   "source": [
    "data1.head()"
   ]
  },
  {
   "cell_type": "code",
   "execution_count": 23,
   "id": "28281a5a",
   "metadata": {},
   "outputs": [
    {
     "name": "stdout",
     "output_type": "stream",
     "text": [
      "[0.]\n"
     ]
    }
   ],
   "source": [
    "# Perform label encoding\n",
    "data1 = lable_encoding(data1, label_encoding_columns)\n",
    "# Check the unique values in the TotalClaims column of the encoded DataFrame\n",
    "print(data1['TotalClaims'].unique())"
   ]
  },
  {
   "cell_type": "code",
   "execution_count": 24,
   "id": "6767c836",
   "metadata": {},
   "outputs": [
    {
     "data": {
      "text/plain": [
       "TotalClaims\n",
       "0.0    588650\n",
       "Name: count, dtype: int64"
      ]
     },
     "execution_count": 24,
     "metadata": {},
     "output_type": "execute_result"
    }
   ],
   "source": [
    "X , y_claims = target_variable_and_features(data1)\n",
    "y_claims.value_counts()"
   ]
  },
  {
   "cell_type": "code",
   "execution_count": 25,
   "id": "4fbadb19",
   "metadata": {},
   "outputs": [],
   "source": [
    "x_train , x_test ,  y_train_claims , y_test_claims  = train_test_split_selection(X,y_claims)\n",
    "x_trian_scaled ,x_test_scaled = feature_scaling(x_train,x_test)"
   ]
  },
  {
   "cell_type": "code",
   "execution_count": 27,
   "id": "4bfc81d1",
   "metadata": {},
   "outputs": [],
   "source": [
    "lr_model, dt_model, rfr_model, xgb_model = model_building()\n"
   ]
  },
  {
   "cell_type": "code",
   "execution_count": 28,
   "id": "2b25429d",
   "metadata": {},
   "outputs": [],
   "source": [
    "lr_grid, dt_grid, rf_grid, xgb_grid = define_parameter_grid_gridsearchcv(lr_model, dt_model, rfr_model, xgb_model)\n"
   ]
  },
  {
   "cell_type": "code",
   "execution_count": 29,
   "id": "bc7162be",
   "metadata": {},
   "outputs": [
    {
     "name": "stdout",
     "output_type": "stream",
     "text": [
      "finfish lr\n",
      "finfish dt\n",
      "finfish rfr\n",
      "finfish xgb\n"
     ]
    }
   ],
   "source": [
    "lr_model, dt_model, rfr_model, xgb_model = train_each_model(lr_model, dt_model, rfr_model, xgb_model, x_trian_scaled, y_train_claims)"
   ]
  },
  {
   "cell_type": "code",
   "execution_count": 30,
   "id": "6ddff41e",
   "metadata": {},
   "outputs": [
    {
     "name": "stdout",
     "output_type": "stream",
     "text": [
      "Linear Regression - MAE: 0.0 MSE: 0.0 R2: 1.0\n"
     ]
    }
   ],
   "source": [
    "# Evaluate the Linear Regression model\n",
    "mae, mse, r2, y_pred = model_Test(lr_model, x_test_scaled, y_test_claims)\n",
    "\n",
    "# Print the evaluation metrics\n",
    "print(\"Linear Regression - MAE:\", mae, \"MSE:\", mse, \"R2:\", r2)"
   ]
  },
  {
   "cell_type": "code",
   "execution_count": 31,
   "id": "27231caf",
   "metadata": {},
   "outputs": [
    {
     "data": {
      "text/plain": [
       "(0.0, 0.0, 1.0, array([0., 0., 0., ..., 0., 0., 0.], shape=(117730,)))"
      ]
     },
     "execution_count": 31,
     "metadata": {},
     "output_type": "execute_result"
    }
   ],
   "source": [
    "mae , mse , r2 , y_pred\n",
    "\n"
   ]
  },
  {
   "cell_type": "code",
   "execution_count": 32,
   "id": "c9b5155e",
   "metadata": {},
   "outputs": [
    {
     "data": {
      "text/plain": [
       "0.0"
      ]
     },
     "execution_count": 32,
     "metadata": {},
     "output_type": "execute_result"
    }
   ],
   "source": [
    "mae\n",
    "\n"
   ]
  },
  {
   "cell_type": "code",
   "execution_count": 33,
   "id": "69e963c0",
   "metadata": {},
   "outputs": [
    {
     "data": {
      "text/plain": [
       "0.0"
      ]
     },
     "execution_count": 33,
     "metadata": {},
     "output_type": "execute_result"
    }
   ],
   "source": [
    "mse\n",
    "\n"
   ]
  },
  {
   "cell_type": "code",
   "execution_count": 34,
   "id": "87470116",
   "metadata": {},
   "outputs": [
    {
     "data": {
      "text/plain": [
       "1.0"
      ]
     },
     "execution_count": 34,
     "metadata": {},
     "output_type": "execute_result"
    }
   ],
   "source": [
    "r2\n",
    "\n"
   ]
  },
  {
   "cell_type": "code",
   "execution_count": 35,
   "id": "7dbecf36",
   "metadata": {},
   "outputs": [
    {
     "data": {
      "text/plain": [
       "array([0., 0., 0., ..., 0., 0., 0.], shape=(117730,))"
      ]
     },
     "execution_count": 35,
     "metadata": {},
     "output_type": "execute_result"
    }
   ],
   "source": [
    "y_pred"
   ]
  },
  {
   "cell_type": "code",
   "execution_count": 36,
   "id": "0713c33e",
   "metadata": {},
   "outputs": [
    {
     "data": {
      "image/png": "[encoded data removed]",
      "text/plain": [
       "<Figure size 640x480 with 1 Axes>"
      ]
     },
     "metadata": {},
     "output_type": "display_data"
    }
   ],
   "source": [
    "plt.hist(y_train_claims, bins=50)\n",
    "plt.show()"
   ]
  },
  {
   "cell_type": "code",
   "execution_count": 37,
   "id": "43029a2e",
   "metadata": {},
   "outputs": [
    {
     "data": {
      "image/png": "[encoded data removed]",
      "text/plain": [
       "<Figure size 640x480 with 1 Axes>"
      ]
     },
     "metadata": {},
     "output_type": "display_data"
    }
   ],
   "source": [
    "y_train_claims_log = np.log1p(y_train_claims)  # Applies log(1 + x) to avoid issues with zeros\n",
    "plt.hist(y_train_claims_log, bins=50)\n",
    "plt.show()"
   ]
  }
 ],
 "metadata": {
  "kernelspec": {
   "display_name": "week-3",
   "language": "python",
   "name": "python3"
  },
  "language_info": {
   "codemirror_mode": {
    "name": "ipython",
    "version": 3
   },
   "file_extension": ".py",
   "mimetype": "text/x-python",
   "name": "python",
   "nbconvert_exporter": "python",
   "pygments_lexer": "ipython3",
   "version": "3.11.9"
  }
 },
 "nbformat": 4,
 "nbformat_minor": 5
}
